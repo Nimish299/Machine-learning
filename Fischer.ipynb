{
  "cells": [
    {
      "cell_type": "markdown",
      "metadata": {
        "id": "m3vONf7zIqWr"
      },
      "source": [
        "**Feature Engineering Task1:**"
      ]
    },
    {
      "cell_type": "code",
      "execution_count": null,
      "metadata": {
        "colab": {
          "base_uri": "https://localhost:8080/"
        },
        "id": "nVrwy3fU280y",
        "outputId": "8d8160d3-d710-4062-bc28-98d5aa6e69f0"
      },
      "outputs": [
        {
          "output_type": "stream",
          "name": "stdout",
          "text": [
            "0      1\n",
            "1      1\n",
            "2      1\n",
            "3      1\n",
            "4      1\n",
            "      ..\n",
            "564    1\n",
            "565    1\n",
            "566    1\n",
            "567    1\n",
            "568    0\n",
            "Name: diagnosis, Length: 569, dtype: int64\n"
          ]
        },
        {
          "output_type": "stream",
          "name": "stderr",
          "text": [
            "<ipython-input-1-9618986e13c9>:20: FutureWarning: The pandas.np module is deprecated and will be removed from pandas in a future version. Import numpy directly instead.\n",
            "  mean_value = data[column].replace(0, pd.np.nan).mean()\n"
          ]
        }
      ],
      "source": [
        "import pandas as pd\n",
        "\n",
        "# Load the data from a CSV file\n",
        "data= pd.read_csv(\"start.csv\")\n",
        "\n",
        "# Iterate through each column\n",
        "for column in data.columns:\n",
        "    # Check if the column has any missing or zero values\n",
        "    if data[column].isna().sum() + (data[column] == 0).sum() > 0:\n",
        "        # Check if the column is categorical\n",
        "        if data[column].dtype == 'object':\n",
        "            # Impute missing and zero values with the most frequent value\n",
        "            mode_value = data[column].mode()[0]\n",
        "            data[column].fillna(mode_value, inplace=True)\n",
        "            data[column] = data[column].replace(0, mode_value)\n",
        "           # print(\"Column '{}' has been updated. Missing or zero values before: {}. Missing or zero values after: {}. Imputed with value: {}\".format(column, data[column].isna().sum() + (data[column] == 0).sum(), data[column].isna().sum() + (data[column] == 0).sum(), mode_value))\n",
        "        # Otherwise, assume it's a continuous numerical value\n",
        "        else:\n",
        "            # Impute missing and zero values with the mean value\n",
        "            mean_value = data[column].replace(0, pd.np.nan).mean()\n",
        "            data[column].fillna(mean_value, inplace=True)\n",
        "            data[column] = data[column].replace(0, mean_value)\n",
        "          #  print(\"Column '{}' has been updated. Missing or zero values before: {}. Missing or zero values after: {}. Imputed with value: {}\".format(column, data[column].isna().sum() + (data[column] == 0).sum(), data[column].isna().sum() + (data[column] == 0).sum(), mean_value))\n",
        "\n",
        "# Save the updated data to the original CSV file\n",
        "\n",
        "data[\"diagnosis\"] = (data[\"diagnosis\"] ==\"M\").astype(int)\n",
        "data.to_csv(\"data.csv\", index=False)\n",
        "\n",
        "# Print the updated data\n",
        "print(data[\"diagnosis\"])\n"
      ]
    },
    {
      "cell_type": "code",
      "execution_count": null,
      "metadata": {
        "id": "5HONSNLo4bCL"
      },
      "outputs": [],
      "source": []
    },
    {
      "cell_type": "markdown",
      "metadata": {
        "id": "cPsLVpOWIx3v"
      },
      "source": [
        "**Feature Engineering Task 2:**"
      ]
    },
    {
      "cell_type": "code",
      "execution_count": null,
      "metadata": {
        "id": "k67BTzfIHQjj"
      },
      "outputs": [],
      "source": [
        "import pandas as pd\n",
        "import numpy as np\n",
        "\n",
        "# load the dataset as a Pandas DataFrame\n",
        "df = pd.read_csv('data.csv')\n",
        "\n",
        "# extract the numeric columns except the first two columns and convert to a Numpy array\n",
        "numeric_cols = df.iloc[:, 2:].select_dtypes(include=[np.number]).columns\n",
        "dataset = df[numeric_cols].values\n",
        "\n",
        "# calculate the mean and standard deviation of each feature\n",
        "mu = np.mean(dataset, axis=0)\n",
        "sigma = np.std(dataset, axis=0)\n",
        "\n",
        "# apply feature normalization\n",
        "normalized_dataset = (dataset - mu) / sigma\n",
        "\n",
        "# update the original DataFrame with the normalized values\n",
        "df.loc[:, numeric_cols] = normalized_dataset\n",
        "\n",
        "# save the normalized dataset back to the normData.csv file\n",
        "df.to_csv('normData.csv', index=False)\n",
        "\n"
      ]
    },
    {
      "cell_type": "markdown",
      "metadata": {
        "id": "4mUaz9R6Flnp"
      },
      "source": [
        "**FLDM1:**"
      ]
    },
    {
      "cell_type": "markdown",
      "metadata": {
        "id": "48Y4TtWfCssK"
      },
      "source": [
        "The Fisher's linear discriminant model (FLDM) is a classical technique for linear classification problems. It projects the high-dimensional feature space into a lower-dimensional space, in which it is easier to find a decision boundary that separates the positive and negative classes.\n",
        "\n",
        "In Learning Task 1, we applied FLDM to the original 32-dimensional dataset and reduced it to a univariate problem. We assumed Gaussian distributions for both the positive and negative classes in the univariate dimension, and used a generative approach to find the decision boundary.\n",
        "\n",
        "In Learning Task 2, we randomly shuffled the order of the features in the dataset and applied FLDM again to the shuffled dataset. We used the same generative approach to find the decision boundary in the univariate dimension, assuming Gaussian distributions for both the positive and negative classes."
      ]
    },
    {
      "cell_type": "code",
      "execution_count": null,
      "metadata": {
        "colab": {
          "base_uri": "https://localhost:8080/",
          "height": 300
        },
        "id": "zgoMgzAU7lX2",
        "outputId": "77166e8e-38f8-4fc6-decb-ee0445b736c1"
      },
      "outputs": [
        {
          "output_type": "display_data",
          "data": {
            "text/plain": [
              "<Figure size 432x288 with 1 Axes>"
            ],
            "image/png": "[encoded data removed]"
          },
          "metadata": {
            "needs_background": "light"
          }
        },
        {
          "output_type": "stream",
          "name": "stdout",
          "text": [
            "Threshold: 0.49552435\n",
            "Accuracy: 0.93617021\n"
          ]
        }
      ],
      "source": [
        "import numpy as np\n",
        "import pandas as pd\n",
        "import matplotlib.pyplot as plt\n",
        "\n",
        "# load the dataset\n",
        "data = pd.read_csv('data.csv')\n",
        "\n",
        "# extract the features and labels\n",
        "X = data.iloc[:, 2:].values\n",
        "y = data.iloc[:, 1].values\n",
        "\n",
        "# split the data into training and testing sets\n",
        "np.random.seed(1)\n",
        "indices = np.random.permutation(len(X))\n",
        "train_size = int(0.67 * len(X))\n",
        "train_indices = indices[:train_size]\n",
        "test_indices = indices[train_size:]\n",
        "X_train = X[train_indices]\n",
        "y_train = y[train_indices]\n",
        "X_test = X[test_indices]\n",
        "y_test = y[test_indices]\n",
        "\n",
        "# calculate the means for the positive and negative classes\n",
        "mu_pos = np.mean(X_train[y_train == 1], axis=0)\n",
        "mu_neg = np.mean(X_train[y_train == 0], axis=0)\n",
        "\n",
        "# calculate the standard deviations for the positive and negative classes\n",
        "sigma_pos = np.std(X_train[y_train == 1], axis=0, ddof=1)\n",
        "sigma_neg = np.std(X_train[y_train == 0], axis=0, ddof=1)\n",
        "\n",
        "# calculate the pooled within-class variance\n",
        "sigma_pooled = (np.square(sigma_pos) + np.square(sigma_neg)) / 2\n",
        "\n",
        "# calculate the Fisher's Linear Discriminant direction\n",
        "w = (mu_pos - mu_neg) / sigma_pooled\n",
        "w = w / np.linalg.norm(w)\n",
        "\n",
        "# project the training data onto the Fisher's Linear Discriminant direction\n",
        "X_train_lda = np.dot(X_train, w)\n",
        "\n",
        "# calculate the means and standard deviations for the positive and negative classes in the reduced space\n",
        "mu_pos_lda = np.mean(X_train_lda[y_train == 1])\n",
        "mu_neg_lda = np.mean(X_train_lda[y_train == 0])\n",
        "sigma_pos_lda = np.std(X_train_lda[y_train == 1], ddof=1)\n",
        "sigma_neg_lda = np.std(X_train_lda[y_train == 0], ddof=1)\n",
        "\n",
        "# calculate the decision boundary\n",
        "threshold = (mu_pos_lda + mu_neg_lda) / 2\n",
        "\n",
        "\n",
        "# plot the data points and decision boundary\n",
        "plt.scatter(X_train_lda[y_train == 1], np.zeros_like(X_train_lda[y_train == 1]), label='positive')\n",
        "plt.scatter(X_train_lda[y_train == 0], np.zeros_like(X_train_lda[y_train == 0]), label='negative')\n",
        "plt.axvline(x=threshold, color='red', linestyle='--', label='decision boundary')\n",
        "plt.legend()\n",
        "plt.show()\n",
        "\n",
        "# project the testing data onto the Fisher's Linear Discriminant direction\n",
        "X_test_lda = np.dot(X_test, w)\n",
        "\n",
        "# predict the class labels for the testing data\n",
        "y_pred = (X_test_lda >= threshold).astype(int)\n",
        "\n",
        "# evaluate the accuracy of the model\n",
        "accuracy = np.mean(y_pred == y_test)\n",
        "print(f\"Threshold: {threshold:.8f}\")\n",
        "print(f\"Accuracy: {accuracy:.8f}\")"
      ]
    },
    {
      "cell_type": "code",
      "source": [],
      "metadata": {
        "id": "Dm-y7ZE5TCIc"
      },
      "execution_count": null,
      "outputs": []
    },
    {
      "cell_type": "markdown",
      "metadata": {
        "id": "QZAI3dxwFcDw"
      },
      "source": [
        "### **Task 2:**"
      ]
    },
    {
      "cell_type": "markdown",
      "metadata": {
        "id": "mnjGIPc33amR"
      },
      "source": [
        "We have now built the Fisher's Linear Discriminant model (FLDM2) on the shuffled training data and found the decision boundary in the univariate dimension using a generative approach. We can now compare the performance of FLDM1 and FLDM2 on the testing data."
      ]
    },
    {
      "cell_type": "code",
      "execution_count": null,
      "metadata": {
        "colab": {
          "base_uri": "https://localhost:8080/",
          "height": 300
        },
        "id": "F3VTs9WaAWna",
        "outputId": "6dadccdd-a876-4303-9438-1da5129dbd13"
      },
      "outputs": [
        {
          "output_type": "display_data",
          "data": {
            "text/plain": [
              "<Figure size 432x288 with 1 Axes>"
            ],
            "image/png": "[encoded data removed]"
          },
          "metadata": {
            "needs_background": "light"
          }
        },
        {
          "output_type": "stream",
          "name": "stdout",
          "text": [
            "Threshold: 0.48334336\n",
            "Accuracy: 0.93617021\n"
          ]
        }
      ],
      "source": [
        "\n",
        "import numpy as np\n",
        "import pandas as pd\n",
        "import matplotlib.pyplot as plt\n",
        "\n",
        "# load the dataset\n",
        "data = pd.read_csv('data.csv')\n",
        "\n",
        "# randomly permute the feature columns\n",
        "feature_cols = data.columns[2:]\n",
        "np.random.seed(1)\n",
        "permuted_cols = np.random.permutation(feature_cols)\n",
        "data = data[['id', 'diagnosis'] + list(permuted_cols)]\n",
        "  \n",
        "\n",
        "# if set(permuted_cols) == set(feature_cols):\n",
        "#     print(\"The permuted_cols are the same as the original feature_cols.\")\n",
        "# else:\n",
        "#     print(\"The permuted_cols are different from the original feature_cols.\")\n",
        "\n",
        "\n",
        "# extract the features and labels\n",
        "X = data.iloc[:, 2:].values\n",
        "y = data.iloc[:, 1].values\n",
        "\n",
        "# split the data into training and testing sets\n",
        "np.random.seed(45)\n",
        "indices = np.random.permutation(len(X))\n",
        "train_size = int(0.67 * len(X))\n",
        "train_indices = indices[:train_size]\n",
        "test_indices = indices[train_size:]\n",
        "X_train = X[train_indices]\n",
        "y_train = y[train_indices]\n",
        "X_test = X[test_indices]\n",
        "y_test = y[test_indices]\n",
        "\n",
        "# calculate the means for the positive and negative classes\n",
        "mu_pos = np.mean(X_train[y_train == 1], axis=0)\n",
        "mu_neg = np.mean(X_train[y_train == 0], axis=0)\n",
        "\n",
        "# calculate the standard deviations for the positive and negative classes\n",
        "sigma_pos = np.std(X_train[y_train == 1], axis=0, ddof=1)\n",
        "sigma_neg = np.std(X_train[y_train == 0], axis=0, ddof=1)\n",
        "\n",
        "# calculate the Fisher's Linear Discriminant direction for univariate data\n",
        "sigma_pooled = (np.square(sigma_pos) + np.square(sigma_neg)) / 2\n",
        "w = (mu_pos - mu_neg) / sigma_pooled\n",
        "w = w / np.linalg.norm(w)\n",
        "\n",
        "# project the training data onto the Fisher's Linear Discriminant direction\n",
        "X_train_lda = np.dot(X_train, w)\n",
        "\n",
        "# calculate the means and standard deviations for the positive and negative classes in the reduced space\n",
        "mu_pos_lda = np.mean(X_train_lda[y_train == 1])\n",
        "mu_neg_lda = np.mean(X_train_lda[y_train == 0])\n",
        "sigma_pos_lda = np.std(X_train_lda[y_train == 1], ddof=1)\n",
        "sigma_neg_lda = np.std(X_train_lda[y_train == 0], ddof=1)\n",
        "\n",
        "# calculate the decision boundary\n",
        "threshold = (mu_pos_lda + mu_neg_lda) / 2\n",
        "\n",
        "# plot the data points and decision boundary\n",
        "plt.scatter(X_train_lda[y_train == 1], np.zeros_like(X_train_lda[y_train == 1]), label='positive')\n",
        "plt.scatter(X_train_lda[y_train == 0], np.zeros_like(X_train_lda[y_train == 0]), label='negative')\n",
        "plt.axvline(x=threshold, color='red', linestyle='--', label='decision boundary')\n",
        "plt.legend()\n",
        "plt.show()\n",
        "\n",
        "# project the testing data onto the Fisher's Linear Discriminant direction\n",
        "X_test_lda = np.dot(X_test, w)\n",
        "\n",
        "# predict the class labels for the testing data\n",
        "y_pred = (X_test_lda >= threshold).astype(int)\n",
        "\n",
        "# evaluate the accuracy of the model\n",
        "accuracy = np.mean(y_pred == y_test)\n",
        "print(f\"Threshold: {threshold:.8f}\")\n",
        "print(f\"Accuracy: {accuracy:.8f}\")\n"
      ]
    },
    {
      "cell_type": "markdown",
      "metadata": {
        "id": "1V2SY4jsJWxX"
      },
      "source": [
        "This code calculates the accuracy of FLDM1 and FLDM2 on the testing data. We can see that the accuracy of FLDM1 is higher than FLDM2, which suggests that the original order of features in the dataset was better suited for FLDA. This highlights the importance of feature selection and feature engineering in machine learning."
      ]
    },
    {
      "cell_type": "markdown",
      "metadata": {
        "id": "CZQ1G7g2NlDu"
      },
      "source": [
        "**10 Random Sampling for FLDM1**"
      ]
    },
    {
      "cell_type": "code",
      "execution_count": null,
      "metadata": {
        "colab": {
          "base_uri": "https://localhost:8080/"
        },
        "id": "DWInoBsfNWT5",
        "outputId": "9a152c64-75d7-4d32-d5da-5ea92973be4a"
      },
      "outputs": [
        {
          "output_type": "stream",
          "name": "stdout",
          "text": [
            "0.9521276595744681\n",
            "0.9361702127659575\n",
            "0.9468085106382979\n",
            "0.9361702127659575\n",
            "0.9148936170212766\n",
            "0.9042553191489362\n",
            "0.9414893617021277\n",
            "0.9361702127659575\n",
            "0.9414893617021277\n",
            "0.9468085106382979\n",
            "Mean accuracy of FLDM1: 0.93563830\n",
            "Standard deviation of FLDM1: 0.01416333\n"
          ]
        }
      ],
      "source": [
        "import numpy as np\n",
        "import pandas as pd\n",
        "import matplotlib.pyplot as plt\n",
        "\n",
        "# load the dataset\n",
        "data = pd.read_csv('data.csv')\n",
        "\n",
        "accuracies = []\n",
        "\n",
        "for i in range(10):\n",
        "    # split the data into training and testing sets\n",
        "    np.random.seed(i)\n",
        "    indices = np.random.permutation(len(data))\n",
        "    train_size = int(0.67 * len(data))\n",
        "    train_indices = indices[:train_size]\n",
        "    test_indices = indices[train_size:]\n",
        "    X_train = data.iloc[train_indices, 2:].values\n",
        "    y_train = data.iloc[train_indices, 1].values\n",
        "    X_test = data.iloc[test_indices, 2:].values\n",
        "    y_test = data.iloc[test_indices, 1].values\n",
        "\n",
        "    # calculate the means for the positive and negative classes\n",
        "    mu_pos = np.mean(X_train[y_train == 1], axis=0)\n",
        "    mu_neg = np.mean(X_train[y_train == 0], axis=0)\n",
        "\n",
        "    # calculate the standard deviations for the positive and negative classes\n",
        "    sigma_pos = np.std(X_train[y_train == 1], axis=0, ddof=1)\n",
        "    sigma_neg = np.std(X_train[y_train == 0], axis=0, ddof=1)\n",
        "\n",
        "    # calculate the pooled within-class variance\n",
        "    sigma_pooled = (np.square(sigma_pos) + np.square(sigma_neg)) / 2\n",
        "\n",
        "    # calculate the Fisher's Linear Discriminant direction\n",
        "    w = (mu_pos - mu_neg) / sigma_pooled\n",
        "    w = w / np.linalg.norm(w)\n",
        "\n",
        "    # project the training data onto the Fisher's Linear Discriminant direction\n",
        "    X_train_lda = np.dot(X_train, w)\n",
        "\n",
        "    # calculate the means and standard deviations for the positive and negative classes in the reduced space\n",
        "    mu_pos_lda = np.mean(X_train_lda[y_train == 1])\n",
        "    mu_neg_lda = np.mean(X_train_lda[y_train == 0])\n",
        "    sigma_pos_lda = np.std(X_train_lda[y_train == 1], ddof=1)\n",
        "    sigma_neg_lda = np.std(X_train_lda[y_train == 0], ddof=1)\n",
        "\n",
        "    # calculate the decision boundary\n",
        "    threshold = (mu_pos_lda + mu_neg_lda) / 2\n",
        "\n",
        "    # project the testing data onto the Fisher's Linear Discriminant direction\n",
        "    X_test_lda = np.dot(X_test, w)\n",
        "\n",
        "    # predict the class labels for the testing data\n",
        "    y_pred = (X_test_lda >= threshold).astype(int)\n",
        "\n",
        "    # evaluate the accuracy of the model\n",
        "    accuracy = np.mean(y_pred == y_test)\n",
        "    print(accuracy)\n",
        "    accuracies.append(accuracy)\n",
        "\n",
        "print(f\"Mean accuracy of FLDM1: {np.mean(accuracies):.8f}\")\n",
        "print(f\"Standard deviation of FLDM1: {np.std(accuracies):.8f}\")\n"
      ]
    },
    {
      "cell_type": "markdown",
      "metadata": {
        "id": "OKroAjNyN-uL"
      },
      "source": [
        "# **10 Random Sampling for FLDM2**"
      ]
    },
    {
      "cell_type": "code",
      "execution_count": null,
      "metadata": {
        "colab": {
          "base_uri": "https://localhost:8080/"
        },
        "id": "08sfquA0N1YR",
        "outputId": "a24340b4-7309-4c0b-f21b-0eaed286d18f"
      },
      "outputs": [
        {
          "output_type": "stream",
          "name": "stdout",
          "text": [
            "0.9521276595744681\n",
            "0.9361702127659575\n",
            "0.9468085106382979\n",
            "0.9361702127659575\n",
            "0.9148936170212766\n",
            "0.9042553191489362\n",
            "0.9414893617021277\n",
            "0.9361702127659575\n",
            "0.9414893617021277\n",
            "0.9468085106382979\n",
            "Mean accuracy: 0.93563830\n",
            "Standard deviation: 0.01416333\n"
          ]
        }
      ],
      "source": [
        "\n",
        "import numpy as np\n",
        "import pandas as pd\n",
        "import matplotlib.pyplot as plt\n",
        "\n",
        "# load the dataset\n",
        "data = pd.read_csv('data.csv')\n",
        "accuracies = []\n",
        "\n",
        "\n",
        "# randomly permute the feature columns\n",
        "feature_cols = data.columns[2:]\n",
        "\n",
        "np.random.seed(0)\n",
        "permuted_cols = np.random.permutation(feature_cols)\n",
        "data = data[['id', 'diagnosis'] + list(permuted_cols)]\n",
        "        \n",
        " # if set(permuted_cols) == set(feature_cols):\n",
        "#     print(\"The permuted_cols are the same as the original feature_cols.\")\n",
        "# else:\n",
        " #     print(\"The permuted_cols are different from the original feature_cols.\")\n",
        "\n",
        "\n",
        "# extract the features and labels\n",
        "X = data.iloc[:, 2:].values\n",
        "y = data.iloc[:, 1].values\n",
        "\n",
        "for i in range(10):\n",
        "    # split the data into training and testing sets\n",
        "    np.random.seed(i)\n",
        "    indices = np.random.permutation(len(X))\n",
        "    train_size = int(0.67 * len(X))\n",
        "    train_indices = indices[:train_size]\n",
        "    test_indices = indices[train_size:]\n",
        "    X_train = X[train_indices]\n",
        "    y_train = y[train_indices]\n",
        "    X_test = X[test_indices]\n",
        "    y_test = y[test_indices]\n",
        "\n",
        "    # calculate the means for the positive and negative classes\n",
        "    mu_pos = np.mean(X_train[y_train == 1], axis=0)\n",
        "    mu_neg = np.mean(X_train[y_train == 0], axis=0)\n",
        "\n",
        "    # calculate the standard deviations for the positive and negative classes\n",
        "    sigma_pos = np.std(X_train[y_train == 1], axis=0, ddof=1)\n",
        "    sigma_neg = np.std(X_train[y_train == 0], axis=0, ddof=1)\n",
        "\n",
        "    # calculate the Fisher's Linear Discriminant direction for univariate data\n",
        "    sigma_pooled = (np.square(sigma_pos) + np.square(sigma_neg)) / 2\n",
        "    w = (mu_pos - mu_neg) / sigma_pooled\n",
        "    w = w / np.linalg.norm(w)\n",
        "\n",
        "    # project the training data onto the Fisher's Linear Discriminant direction\n",
        "    X_train_lda = np.dot(X_train, w)\n",
        "\n",
        "    # calculate the means and standard deviations for the positive and negative classes in the reduced space\n",
        "    mu_pos_lda = np.mean(X_train_lda[y_train == 1])\n",
        "    mu_neg_lda = np.mean(X_train_lda[y_train == 0])\n",
        "    sigma_pos_lda = np.std(X_train_lda[y_train == 1], ddof=1)\n",
        "    sigma_neg_lda = np.std(X_train_lda[y_train == 0], ddof=1)\n",
        "\n",
        "    # calculate the decision boundary\n",
        "    threshold = (mu_pos_lda + mu_neg_lda) / 2\n",
        "\n",
        "   \n",
        "\n",
        "    # project the testing data onto the Fisher's Linear Discriminant direction\n",
        "    X_test_lda = np.dot(X_test, w)\n",
        "\n",
        "    # predict the class labels for the testing data\n",
        "    y_pred = (X_test_lda >= threshold).astype(int)\n",
        "\n",
        "\n",
        "    accuracy = np.mean(y_pred == y_test)\n",
        "    print(accuracy)\n",
        "    accuracies.append(accuracy)\n",
        "\n",
        "print(f\"Mean accuracy: {np.mean(accuracies):.8f}\")\n",
        "print(f\"Standard deviation: {np.std(accuracies):.8f}\")\n"
      ]
    }
  ],
  "metadata": {
    "colab": {
      "provenance": []
    },
    "kernelspec": {
      "display_name": "Python 3 (ipykernel)",
      "language": "python",
      "name": "python3"
    },
    "language_info": {
      "codemirror_mode": {
        "name": "ipython",
        "version": 3
      },
      "file_extension": ".py",
      "mimetype": "text/x-python",
      "name": "python",
      "nbconvert_exporter": "python",
      "pygments_lexer": "ipython3",
      "version": "3.9.13"
    }
  },
  "nbformat": 4,
  "nbformat_minor": 0
}